{
 "cells": [
  {
   "cell_type": "markdown",
   "metadata": {
    "id": "uLowh9gGYg_X"
   },
   "source": [
    "# 1 -Get the data"
   ]
  },
  {
   "cell_type": "code",
   "execution_count": null,
   "metadata": {
    "id": "gdMvH1R-7gVx"
   },
   "outputs": [],
   "source": [
    "!git clone https://www.github.com/keras-team/keras-contrib.git\n",
    "!cd keras-contrib\n",
    "!pip install git+https://www.github.com/keras-team/keras-contrib.git"
   ]
  },
  {
   "cell_type": "code",
   "execution_count": null,
   "metadata": {
    "id": "ReNVY5_L66Sz"
   },
   "outputs": [],
   "source": [
    "from numpy import zeros\n",
    "from numpy import ones\n",
    "from numpy.random import randint\n",
    "from tensorflow import keras\n",
    "from keras.initializers import RandomNormal\n",
    "from keras.models import Model\n",
    "from keras.models import Input\n",
    "from keras.layers import Conv2D\n",
    "from keras.layers import Conv2DTranspose\n",
    "from keras.layers import LeakyReLU\n",
    "from keras.layers import Activation\n",
    "from keras.layers import Concatenate\n",
    "from keras.layers import Dropout\n",
    "from keras_contrib.layers.normalization.instancenormalization import InstanceNormalization\n",
    "from matplotlib import pyplot as plt\n",
    "from tensorflow.keras.utils import plot_model"
   ]
  },
  {
   "cell_type": "code",
   "execution_count": null,
   "metadata": {
    "id": "-tYCXgFHeiGY"
   },
   "outputs": [],
   "source": [
    "from google.colab import drive\n",
    "drive.mount('/content/drive')\n",
    "! mkdir ~/.kaggle\n",
    "!cp /content/drive/MyDrive/kaggle.json ~/.kaggle/kaggle.json\n",
    "! chmod 600 ~/.kaggle/kaggle.json"
   ]
  },
  {
   "cell_type": "code",
   "execution_count": null,
   "metadata": {
    "id": "3AhxRgWIcgXy"
   },
   "outputs": [],
   "source": [
    "! kaggle datasets download -d darren2020/ct2mri"
   ]
  },
  {
   "cell_type": "code",
   "execution_count": null,
   "metadata": {
    "id": "RZKbrLbjeUwE"
   },
   "outputs": [],
   "source": [
    "! unzip /content/ct2mri.zip "
   ]
  },
  {
   "cell_type": "markdown",
   "metadata": {
    "id": "RCrpxrWDWB11"
   },
   "source": [
    "# 2 - Data preprocessing"
   ]
  },
  {
   "cell_type": "code",
   "execution_count": null,
   "metadata": {
    "id": "P9FGD0ZUe2uO"
   },
   "outputs": [],
   "source": [
    "def load_images(path, size=(256,256)):\n",
    "\tdata_list = list()\n",
    "\t# enumerate filenames in directory, assume all are images\n",
    "\tfor filename in listdir(path):\n",
    "\t\t# load and resize the image\n",
    "\t\tpixels = load_img(path + filename, target_size=size)\n",
    "\t\t# convert to numpy array\n",
    "\t\tpixels = img_to_array(pixels)\n",
    "\t\t# store\n",
    "\t\tdata_list.append(pixels)\n",
    "\treturn asarray(data_list)"
   ]
  },
  {
   "cell_type": "code",
   "execution_count": null,
   "metadata": {
    "id": "s9z67rJNfc8I"
   },
   "outputs": [],
   "source": [
    "from os import listdir\n",
    "from numpy import asarray\n",
    "from numpy import vstack\n",
    "from keras.preprocessing.image import img_to_array\n",
    "from keras.preprocessing.image import load_img\n",
    "from matplotlib import pyplot as plt\n",
    "import numpy as np"
   ]
  },
  {
   "cell_type": "code",
   "execution_count": null,
   "metadata": {
    "id": "1TMvIzccf8xO"
   },
   "outputs": [],
   "source": [
    "dataA_all = load_images('/content/final (copy)/trainA/')\n",
    "dataA_all.shape"
   ]
  },
  {
   "cell_type": "code",
   "execution_count": null,
   "metadata": {
    "id": "694oiuPAwqhP"
   },
   "outputs": [],
   "source": [
    "from sklearn.utils import resample\n",
    "#To get a subset of all images, for faster training during demonstration\n",
    "dataA = resample(dataA_all, \n",
    "                 replace=False,     \n",
    "                 n_samples=100,    \n",
    "                 random_state=42) "
   ]
  },
  {
   "cell_type": "code",
   "execution_count": null,
   "metadata": {
    "id": "_NB2rPLpgPri"
   },
   "outputs": [],
   "source": [
    "dataB_all = load_images('/content/final (copy)/trainB/')"
   ]
  },
  {
   "cell_type": "code",
   "execution_count": null,
   "metadata": {
    "id": "vM-OVPtwwtGc"
   },
   "outputs": [],
   "source": [
    "dataB = resample(dataB_all, \n",
    "                 replace=False,     \n",
    "                 n_samples=500,    \n",
    "                 random_state=42) "
   ]
  },
  {
   "cell_type": "code",
   "execution_count": null,
   "metadata": {
    "id": "EKnhXLDbgXgV"
   },
   "outputs": [],
   "source": [
    "data = [dataA_all,dataB_all]"
   ]
  },
  {
   "cell_type": "code",
   "execution_count": null,
   "metadata": {
    "id": "qaVt1bE5gfqN"
   },
   "outputs": [],
   "source": [
    "def preprocess_data(data):\n",
    "\t# load compressed arrays\n",
    "\t# unpack arrays\n",
    "\tX1, X2 = data[0], data[1]\n",
    "\t# scale from [0,255] to [-1,1]\n",
    "\tX1 = (X1 - 127.5) / 127.5\n",
    "\tX2 = (X2 - 127.5) / 127.5\n",
    "\treturn [X1, X2]\n",
    "\n",
    "dataset = preprocess_data(data)"
   ]
  },
  {
   "cell_type": "markdown",
   "metadata": {
    "id": "sockyQMDWGCb"
   },
   "source": [
    "# 3 - model building and helper function"
   ]
  },
  {
   "cell_type": "code",
   "execution_count": null,
   "metadata": {
    "id": "EViwkU2lkP7e"
   },
   "outputs": [],
   "source": [
    "def define_discriminator(image_shape):\n",
    "\t# weight initialization\n",
    "\tinit = RandomNormal(stddev=0.02)\n",
    "\t# source image input\n",
    "\tin_image = Input(shape=image_shape)\n",
    "\t# C64: 4x4 kernel Stride 2x2\n",
    "\td = Conv2D(64, (4,4), strides=(2,2), padding='same', kernel_initializer=init)(in_image)\n",
    "\td = LeakyReLU(alpha=0.2)(d)\n",
    "\t# C128: 4x4 kernel Stride 2x2\n",
    "\td = Conv2D(128, (4,4), strides=(2,2), padding='same', kernel_initializer=init)(d)\n",
    "\td = InstanceNormalization(axis=-1)(d)\n",
    "\td = LeakyReLU(alpha=0.2)(d)\n",
    "\t# C256: 4x4 kernel Stride 2x2\n",
    "\td = Conv2D(256, (4,4), strides=(2,2), padding='same', kernel_initializer=init)(d)\n",
    "\td = InstanceNormalization(axis=-1)(d)\n",
    "\td = LeakyReLU(alpha=0.2)(d)\n",
    "\t# C512: 4x4 kernel Stride 2x2 \n",
    "    # Not in the original paper. Comment this block if you want.\n",
    "\td = Conv2D(512, (4,4), strides=(2,2), padding='same', kernel_initializer=init)(d)\n",
    "\td = InstanceNormalization(axis=-1)(d)\n",
    "\td = LeakyReLU(alpha=0.2)(d)\n",
    "\t# second last output layer : 4x4 kernel but Stride 1x1\n",
    "\td = Conv2D(512, (4,4), padding='same', kernel_initializer=init)(d)\n",
    "\td = InstanceNormalization(axis=-1)(d)\n",
    "\td = LeakyReLU(alpha=0.2)(d)\n",
    "\t# patch output\n",
    "\tpatch_out = Conv2D(1, (4,4), padding='same', kernel_initializer=init)(d)\n",
    "\t# define model\n",
    "\tmodel = Model(in_image, patch_out)\n",
    "\t# compile model\n",
    "    #The model is trained with a batch size of one image and Adam opt. \n",
    "    #with a small learning rate and 0.5 beta. \n",
    "    #The loss for the discriminator is weighted by 50% for each model update.\n",
    "    #This slows down changes to the discriminator relative to the generator model during training.\n",
    "\tmodel.compile(loss='mse', optimizer=keras.optimizers.Adam(lr=0.0002, beta_1=0.5), loss_weights=[0.5])\n",
    "\treturn model\n",
    "\n",
    "# generator a resnet block to be used in the generator\n",
    "# residual block that contains two 3 × 3 convolutional layers with the same number of filters on both layers.\n",
    "def resnet_block(n_filters, input_layer):\n",
    "\t# weight initialization\n",
    "\tinit = RandomNormal(stddev=0.02)\n",
    "\t# first convolutional layer\n",
    "\tg = Conv2D(n_filters, (3,3), padding='same', kernel_initializer=init)(input_layer)\n",
    "\tg = InstanceNormalization(axis=-1)(g)\n",
    "\tg = Activation('relu')(g)\n",
    "\t# second convolutional layer\n",
    "\tg = Conv2D(n_filters, (3,3), padding='same', kernel_initializer=init)(g)\n",
    "\tg = InstanceNormalization(axis=-1)(g)\n",
    "\t# concatenate merge channel-wise with input layer\n",
    "\tg = Concatenate()([g, input_layer])\n",
    "\treturn g\n",
    "\n",
    "# define the  generator model - encoder-decoder type architecture\n",
    "\n",
    "#c7s1-k denote a 7×7 Convolution-InstanceNorm-ReLU layer with k filters and stride 1. \n",
    "#dk denotes a 3 × 3 Convolution-InstanceNorm-ReLU layer with k filters and stride 2.\n",
    "# Rk denotes a residual block that contains two 3 × 3 convolutional layers\n",
    "# uk denotes a 3 × 3 fractional-strided-Convolution InstanceNorm-ReLU layer with k filters and stride 1/2\n",
    "\n",
    "#The network with 6 residual blocks consists of:\n",
    "#c7s1-64,d128,d256,R256,R256,R256,R256,R256,R256,u128,u64,c7s1-3\n",
    "\n",
    "#The network with 9 residual blocks consists of:\n",
    "#c7s1-64,d128,d256,R256,R256,R256,R256,R256,R256,R256,R256,R256,u128, u64,c7s1-3\n",
    "\n",
    "def define_generator(image_shape, n_resnet=9):\n",
    "\t# weight initialization\n",
    "\tinit = RandomNormal(stddev=0.02)\n",
    "\t# image input\n",
    "\tin_image = Input(shape=image_shape)\n",
    "\t# c7s1-64\n",
    "\tg = Conv2D(64, (7,7), padding='same', kernel_initializer=init)(in_image)\n",
    "\tg = InstanceNormalization(axis=-1)(g)\n",
    "\tg = Activation('relu')(g)\n",
    "\t# d128\n",
    "\tg = Conv2D(128, (3,3), strides=(2,2), padding='same', kernel_initializer=init)(g)\n",
    "\tg = InstanceNormalization(axis=-1)(g)\n",
    "\tg = Activation('relu')(g)\n",
    "\t# d256\n",
    "\tg = Conv2D(256, (3,3), strides=(2,2), padding='same', kernel_initializer=init)(g)\n",
    "\tg = InstanceNormalization(axis=-1)(g)\n",
    "\tg = Activation('relu')(g)\n",
    "\t# R256\n",
    "\tfor _ in range(n_resnet):\n",
    "\t\tg = resnet_block(256, g)\n",
    "\t# u128\n",
    "\tg = Conv2DTranspose(128, (3,3), strides=(2,2), padding='same', kernel_initializer=init)(g)\n",
    "\tg = InstanceNormalization(axis=-1)(g)\n",
    "\tg = Activation('relu')(g)\n",
    "\t# u64\n",
    "\tg = Conv2DTranspose(64, (3,3), strides=(2,2), padding='same', kernel_initializer=init)(g)\n",
    "\tg = InstanceNormalization(axis=-1)(g)\n",
    "\tg = Activation('relu')(g)\n",
    "\t# c7s1-3\n",
    "\tg = Conv2D(3, (7,7), padding='same', kernel_initializer=init)(g)\n",
    "\tg = InstanceNormalization(axis=-1)(g)\n",
    "\tout_image = Activation('tanh')(g)\n",
    "\t# define model\n",
    "\tmodel = Model(in_image, out_image)\n",
    "\treturn model\n",
    "\n",
    "# define a composite model for updating generators by adversarial and cycle loss\n",
    "#We define a composite model that will be used to train each generator separately. \n",
    "def define_composite_model(g_model_1, d_model, g_model_2, image_shape):\n",
    "\t# Make the generator of interest trainable as we will be updating these weights.\n",
    "    #by keeping other models constant.\n",
    "    #Remember that we use this same function to train both generators,\n",
    "    #one generator at a time. \n",
    "\tg_model_1.trainable = True\n",
    "\t# mark discriminator and second generator as non-trainable\n",
    "\td_model.trainable = False\n",
    "\tg_model_2.trainable = False\n",
    "    \n",
    "\t# adversarial loss\n",
    "\tinput_gen = Input(shape=image_shape)\n",
    "\tgen1_out = g_model_1(input_gen)\n",
    "\toutput_d = d_model(gen1_out)\n",
    "\t# identity loss\n",
    "\tinput_id = Input(shape=image_shape)\n",
    "\toutput_id = g_model_1(input_id)\n",
    "\t# cycle loss - forward\n",
    "\toutput_f = g_model_2(gen1_out)\n",
    "\t# cycle loss - backward\n",
    "\tgen2_out = g_model_2(input_id)\n",
    "\toutput_b = g_model_1(gen2_out)\n",
    "    \n",
    "\t# define model graph\n",
    "\tmodel = Model([input_gen, input_id], [output_d, output_id, output_f, output_b])\n",
    "\t\n",
    "    # define the optimizer\n",
    "\topt = keras.optimizers.Adam(lr=0.0002, beta_1=0.5)\n",
    "\t# compile model with weighting of least squares loss and L1 loss\n",
    "\tmodel.compile(loss=['mse', 'mae', 'mae', 'mae'], \n",
    "               loss_weights=[1, 5, 10, 10], optimizer=opt)\n",
    "\treturn model\n",
    "\n",
    "# load and prepare training images\n",
    "def load_real_samples(filename):\n",
    "\t# load the dataset\n",
    "\tdata = load(filename)\n",
    "\t# unpack arrays\n",
    "\tX1, X2 = data['arr_0'], data['arr_1']\n",
    "\t# scale from [0,255] to [-1,1]\n",
    "\tX1 = (X1 - 127.5) / 127.5\n",
    "\tX2 = (X2 - 127.5) / 127.5\n",
    "\treturn [X1, X2]\n",
    "\n",
    "# select a batch of random samples, returns images and target\n",
    "#Remember that for real images the label (y) is 1. \n",
    "def generate_real_samples(dataset, n_samples, patch_shape):\n",
    "\t# choose random instances\n",
    "\tix = randint(0, dataset.shape[0], n_samples)\n",
    "\t# retrieve selected images\n",
    "\tX = dataset[ix]\n",
    "\t# generate 'real' class labels (1)\n",
    "\ty = ones((n_samples, patch_shape, patch_shape, 1))\n",
    "\treturn X, y\n",
    "\n",
    "# generate a batch of images, returns images and targets\n",
    "#Remember that for fake images the label (y) is 0. \n",
    "def generate_fake_samples(g_model, dataset, patch_shape):\n",
    "\t# generate fake images\n",
    "\tX = g_model.predict(dataset)\n",
    "\t# create 'fake' class labels (0)\n",
    "\ty = zeros((len(X), patch_shape, patch_shape, 1))\n",
    "\treturn X, y\n",
    "\n",
    "# periodically save the generator models to file\n",
    "def save_models(step, g_model_AtoB, g_model_BtoA):\n",
    "\t# save the first generator model\n",
    "\tfilename1 = 'g_model_AtoB_%06d.h5' % (step+1)\n",
    "\tg_model_AtoB.save(filename1)\n",
    "\t# save the second generator model\n",
    "\tfilename2 = 'g_model_BtoA_%06d.h5' % (step+1)\n",
    "\tg_model_BtoA.save(filename2)\n",
    "\tprint('>Saved: %s and %s' % (filename1, filename2))\n",
    "\n",
    "# periodically generate images using the save model and plot input and output images\n",
    "def summarize_performance(step, g_model, trainX, name, n_samples=5):\n",
    "\t# select a sample of input images\n",
    "\tX_in, _ = generate_real_samples(trainX, n_samples, 0)\n",
    "\t# generate translated images\n",
    "\tX_out, _ = generate_fake_samples(g_model, X_in, 0)\n",
    "\t# scale all pixels from [-1,1] to [0,1]\n",
    "\tX_in = (X_in + 1) / 2.0\n",
    "\tX_out = (X_out + 1) / 2.0\n",
    "\t# plot real images\n",
    "\tfor i in range(n_samples):\n",
    "\t\tpyplot.subplot(2, n_samples, 1 + i)\n",
    "\t\tpyplot.axis('off')\n",
    "\t\tpyplot.imshow(X_in[i])\n",
    "\t# plot translated image\n",
    "\tfor i in range(n_samples):\n",
    "\t\tpyplot.subplot(2, n_samples, 1 + n_samples + i)\n",
    "\t\tpyplot.axis('off')\n",
    "\t\tpyplot.imshow(X_out[i])\n",
    "\t# save plot to file\n",
    "\tfilename1 = '%s_generated_plot_%06d.png' % (name, (step+1))\n",
    "\tpyplot.savefig(filename1)\n",
    "\tpyplot.close()\n",
    "\n",
    "# update image pool for fake images to reduce model oscillation\n",
    "# update discriminators using a history of generated images \n",
    "#rather than the ones produced by the latest generators.\n",
    "#Original paper recommended keeping an image buffer that stores \n",
    "#the 50 previously created images.\n",
    "\n",
    "def update_image_pool(pool, images, max_size=50):\n",
    "\tselected = list()\n",
    "\tfor image in images:\n",
    "\t\tif len(pool) < max_size:\n",
    "\t\t\t# stock the pool\n",
    "\t\t\tpool.append(image)\n",
    "\t\t\tselected.append(image)\n",
    "\t\telif random() < 0.5:\n",
    "\t\t\t# use image, but don't add it to the pool\n",
    "\t\t\tselected.append(image)\n",
    "\t\telse:\n",
    "\t\t\t# replace an existing image and use replaced image\n",
    "\t\t\tix = randint(0, len(pool))\n",
    "\t\t\tselected.append(pool[ix])\n",
    "\t\t\tpool[ix] = image\n",
    "\treturn asarray(selected)"
   ]
  },
  {
   "cell_type": "markdown",
   "metadata": {
    "id": "58MdEaxTWWUO"
   },
   "source": [
    "# 4 - model training"
   ]
  },
  {
   "cell_type": "code",
   "execution_count": null,
   "metadata": {
    "id": "jjEnceaYWUkx"
   },
   "outputs": [],
   "source": [
    "# train cyclegan models\n",
    "def train(d_model_A, d_model_B, g_model_AtoB, g_model_BtoA, c_model_AtoB, c_model_BtoA, dataset, epochs=1):\n",
    "\t# define properties of the training run\n",
    "\tn_epochs, n_batch, = epochs, 1  #batch size fixed to 1 as suggested in the paper\n",
    "\t# determine the output square shape of the discriminator\n",
    "\tn_patch = d_model_A.output_shape[1]\n",
    "\t# unpack dataset\n",
    "\ttrainA, trainB = dataset\n",
    "\t# prepare image pool for fake images\n",
    "\tpoolA, poolB = list(), list()\n",
    "\t# calculate the number of batches per training epoch\n",
    "\tbat_per_epo = int(len(trainA) / n_batch)\n",
    "\t# calculate the number of training iterations\n",
    "\tn_steps = bat_per_epo * n_epochs\n",
    "    \n",
    "\t# manually enumerate epochs\n",
    "\tfor i in range(n_steps):\n",
    "\t\t# select a batch of real samples from each domain (A and B)\n",
    "\t\tX_realA, y_realA = generate_real_samples(trainA, n_batch, n_patch)\n",
    "\t\tX_realB, y_realB = generate_real_samples(trainB, n_batch, n_patch)\n",
    "\t\t# generate a batch of fake samples using both B to A and A to B generators.\n",
    "\t\tX_fakeA, y_fakeA = generate_fake_samples(g_model_BtoA, X_realB, n_patch)\n",
    "\t\tX_fakeB, y_fakeB = generate_fake_samples(g_model_AtoB, X_realA, n_patch)\n",
    "\t\t# update fake images in the pool. Remember that the paper suggstes a buffer of 50 images\n",
    "\t\tX_fakeA = update_image_pool(poolA, X_fakeA)\n",
    "\t\tX_fakeB = update_image_pool(poolB, X_fakeB)\n",
    "        \n",
    "\t\t# update generator B->A via the composite model\n",
    "\t\tg_loss2, _, _, _, _  = c_model_BtoA.train_on_batch([X_realB, X_realA], [y_realA, X_realA, X_realB, X_realA])\n",
    "\t\t# update discriminator for A -> [real/fake]\n",
    "\t\tdA_loss1 = d_model_A.train_on_batch(X_realA, y_realA)\n",
    "\t\tdA_loss2 = d_model_A.train_on_batch(X_fakeA, y_fakeA)\n",
    "\t\t\n",
    "        # update generator A->B via the composite model\n",
    "\t\tg_loss1, _, _, _, _ = c_model_AtoB.train_on_batch([X_realA, X_realB], [y_realB, X_realB, X_realA, X_realB])\n",
    "\t\t# update discriminator for B -> [real/fake]\n",
    "\t\tdB_loss1 = d_model_B.train_on_batch(X_realB, y_realB)\n",
    "\t\tdB_loss2 = d_model_B.train_on_batch(X_fakeB, y_fakeB)\n",
    "\t\t\n",
    "        # summarize performance\n",
    "        #Since our batch size =1, the number of iterations would be same as the size of our dataset.\n",
    "        #In one epoch you'd have iterations equal to the number of images.\n",
    "        #If you have 100 images then 1 epoch would be 100 iterations\n",
    "\t\tprint('Iteration>%d, dA[%.3f,%.3f] dB[%.3f,%.3f] g[%.3f,%.3f]' % (i+1, dA_loss1,dA_loss2, dB_loss1,dB_loss2, g_loss1,g_loss2))\n",
    "\t\t# evaluate the model performance periodically\n",
    "        #If batch size (total images)=100, performance will be summarized after every 75th iteration.\n",
    "\t\tif (i+1) % (bat_per_epo * 1) == 0:\n",
    "\t\t\t# plot A->B translation\n",
    "\t\t\tsummarize_performance(i, g_model_AtoB, trainA, 'AtoB')\n",
    "\t\t\t# plot B->A translation\n",
    "\t\t\tsummarize_performance(i, g_model_BtoA, trainB, 'BtoA')\n",
    "\t\tif (i+1) % (bat_per_epo * 1) == 0:\n",
    "\t\t\t# save the models\n",
    "            # #If batch size (total images)=100, model will be saved after \n",
    "            #every 75th iteration x 5 = 375 iterations.\n",
    "\t\t\tsave_models(i, g_model_AtoB, g_model_BtoA)"
   ]
  },
  {
   "cell_type": "code",
   "execution_count": null,
   "metadata": {
    "id": "HnY29zclgjyu"
   },
   "outputs": [],
   "source": [
    "image_shape = dataset[0].shape[1:]\n",
    "# generator: A -> B\n",
    "g_model_AtoB = define_generator(image_shape)\n",
    "# generator: B -> A\n",
    "g_model_BtoA = define_generator(image_shape)\n",
    "# discriminator: A -> [real/fake]\n",
    "d_model_A = define_discriminator(image_shape)\n",
    "# discriminator: B -> [real/fake]\n",
    "d_model_B = define_discriminator(image_shape)\n",
    "# composite: A -> B -> [real/fake, A]\n",
    "c_model_AtoB = define_composite_model(g_model_AtoB, d_model_B, g_model_BtoA, image_shape)\n",
    "# composite: B -> A -> [real/fake, B]\n",
    "c_model_BtoA = define_composite_model(g_model_BtoA, d_model_A, g_model_AtoB, image_shape)"
   ]
  },
  {
   "cell_type": "code",
   "execution_count": null,
   "metadata": {
    "id": "7NWb2pVmlvek"
   },
   "outputs": [],
   "source": [
    "from random import random\n",
    "from numpy import load\n",
    "from numpy import zeros\n",
    "from numpy import ones\n",
    "from numpy import asarray\n",
    "from numpy.random import randint\n",
    "#from keras.optimizers import Adam\n",
    "from keras.initializers import RandomNormal\n",
    "from keras.models import Model\n",
    "from keras.models import Input\n",
    "from keras.layers import Conv2D\n",
    "from keras.layers import Conv2DTranspose\n",
    "from keras.layers import LeakyReLU\n",
    "from keras.layers import Activation\n",
    "from matplotlib import pyplot\n",
    "import matplotlib.pyplot as plt"
   ]
  },
  {
   "cell_type": "code",
   "execution_count": null,
   "metadata": {
    "id": "ethiKFuHg53_"
   },
   "outputs": [],
   "source": [
    "from datetime import datetime \n",
    "start1 = datetime.now() \n",
    "# train models\n",
    "train(d_model_A, d_model_B, g_model_AtoB, g_model_BtoA, c_model_AtoB, c_model_BtoA, dataset, epochs=50)\n",
    "\n",
    "stop1 = datetime.now()\n",
    "#Execution time of the model \n",
    "execution_time = stop1-start1\n",
    "print(\"Execution time is: \", execution_time)"
   ]
  },
  {
   "cell_type": "markdown",
   "metadata": {
    "id": "fyG1CTy0bs_x"
   },
   "source": [
    "# 5 - prediction visualizing"
   ]
  },
  {
   "cell_type": "code",
   "execution_count": null,
   "metadata": {
    "id": "aBbadUgNahr7"
   },
   "outputs": [],
   "source": [
    "# Use the saved cyclegan models for image translation\n",
    "from keras.models import load_model\n",
    "from matplotlib import pyplot\n",
    "from numpy.random import randint\n",
    "\n",
    "# select a random sample of images from the dataset\n",
    "def select_sample(dataset, n_samples):\n",
    "\t# choose random instances\n",
    "\tix = randint(0, dataset.shape[0], n_samples)\n",
    "\t# retrieve selected images\n",
    "\tX = dataset[ix]\n",
    "\treturn X"
   ]
  },
  {
   "cell_type": "code",
   "execution_count": null,
   "metadata": {
    "id": "H6RnPk1hahbl"
   },
   "outputs": [],
   "source": [
    "# plot the image, its translation, and the reconstruction\n",
    "def show_plot(imagesX, imagesY1, imagesY2):\n",
    "\timages = vstack((imagesX, imagesY1, imagesY2))\n",
    "\ttitles = ['Real', 'Generated', 'Reconstructed']\n",
    "\t# scale from [-1,1] to [0,1]\n",
    "\timages = (images + 1) / 2.0\n",
    "\t# plot images row by row\n",
    "\tfor i in range(len(images)):\n",
    "\t\t# define subplot\n",
    "\t\tpyplot.subplot(1, len(images), 1 + i)\n",
    "\t\t# turn off axis\n",
    "\t\tpyplot.axis('off')\n",
    "\t\t# plot raw pixel data\n",
    "\t\tpyplot.imshow(images[i])\n",
    "\t\t# title\n",
    "\t\tpyplot.title(titles[i])\n",
    "\tpyplot.show()"
   ]
  },
  {
   "cell_type": "code",
   "execution_count": null,
   "metadata": {
    "id": "yvIDlFwtahEK"
   },
   "outputs": [],
   "source": [
    "# load dataset\n",
    "A_data = resample(dataA_all, \n",
    "                 replace=False,     \n",
    "                 n_samples=50,    \n",
    "                 random_state=42) # reproducible results\n",
    "\n",
    "B_data = resample(dataB_all, \n",
    "                 replace=False,     \n",
    "                 n_samples=50,    \n",
    "                 random_state=42) # reproducible results\n",
    "\n",
    "A_data = (A_data - 127.5) / 127.5\n",
    "B_data = (B_data - 127.5) / 127.5"
   ]
  },
  {
   "cell_type": "code",
   "execution_count": null,
   "metadata": {
    "id": "FkBt2qcFbnCB"
   },
   "outputs": [],
   "source": [
    "A_real = select_sample(A_data, 1)\n",
    "B_generated  = g_model_AtoB.predict(A_real)\n",
    "A_reconstructed = g_model_BtoA.predict(B_generated)\n",
    "show_plot(A_real, B_generated, A_reconstructed)\n",
    "B_real = select_sample(B_data, 1)\n",
    "A_generated  = g_model_BtoA.predict(B_real)\n",
    "B_reconstructed = g_model_AtoB.predict(A_generated)\n",
    "show_plot(B_real, A_generated, B_reconstructed)"
   ]
  },
  {
   "cell_type": "code",
   "execution_count": null,
   "metadata": {
    "id": "vJOA0_LaeR_Z"
   },
   "outputs": [],
   "source": []
  }
 ],
 "metadata": {
  "accelerator": "GPU",
  "colab": {
   "collapsed_sections": [],
   "private_outputs": true,
   "provenance": []
  },
  "gpuClass": "standard",
  "kernelspec": {
   "display_name": "Python 3 (ipykernel)",
   "language": "python",
   "name": "python3"
  },
  "language_info": {
   "codemirror_mode": {
    "name": "ipython",
    "version": 3
   },
   "file_extension": ".py",
   "mimetype": "text/x-python",
   "name": "python",
   "nbconvert_exporter": "python",
   "pygments_lexer": "ipython3",
   "version": "3.9.7"
  }
 },
 "nbformat": 4,
 "nbformat_minor": 1
}
